{
 "cells": [
  {
   "cell_type": "markdown",
   "metadata": {},
   "source": [
    "# Binning\n",
    "\n",
    "### Getting started\n",
    "\n",
    "Binning variables is a procedure that finds multiple applications in Data Science. Some examples are provided below:\n",
    "\n",
    "- **Univariate tests**: Specific univariate tests (like the PSI test, commonly used in the Credit Risk Domain) requires the data to be binneed, as they measure discretized shifts in the distribution of the variables.<br>\n",
    "- **Plotting calibration curves** Specific models requires the predicted probabilities to be calibrated (see [probability calibration](https://scikit-learn.org/stable/modules/calibration.html)). In order to visualize the probability distribution, the predicted probabilities.\n",
    "\n",
    "\n",
    "### API\n",
    "`probatus` implements different binning strategies, in a simple API.<br>\n",
    "The binning strategies are encoded in `Bucketer` classes.\n",
    "\n",
    "Every `Bucketer` implements the following methods:\n",
    "- `fit(X,y=None)`: calculates the optimal bins based on the type of `bucketer`.\n",
    "- `compute(X)`: returns the counts of the variable in bins defined by the fitted `bucketer`.\n",
    "\n",
    "Each bucketer has the following attributes:\n",
    "- `counts`: array of counts from the fitted distribution\n",
    "- `boundaries`: returns the boundaries that define the bin edges\n",
    "\n"
   ]
  },
  {
   "cell_type": "code",
   "execution_count": 1,
   "metadata": {},
   "outputs": [],
   "source": [
    "%matplotlib inline\n",
    "%config Completer.use_jedi = False\n",
    "%load_ext autoreload\n",
    "%autoreload 2\n",
    "import pandas as pd\n",
    "import numpy as np\n",
    "import matplotlib.pyplot as plt\n",
    "pd.set_option('display.max_columns', 100)\n",
    "pd.set_option('display.max_row', 500)\n",
    "pd.set_option('display.max_colwidth', 200)"
   ]
  },
  {
   "cell_type": "markdown",
   "metadata": {},
   "source": [
    "# Implementations\n",
    "\n",
    "`probatus` implements different bucketers, described below.\n",
    "\n",
    "# Distribution related Bucketers\n",
    "- `SimpleBucketer`: splits the data in equally-sized bins of the feature X\n",
    "- `QuantileBucketer`: splits the data in bins of equal frequency X\n",
    "\n",
    "\n"
   ]
  },
  {
   "cell_type": "code",
   "execution_count": 2,
   "metadata": {},
   "outputs": [],
   "source": [
    "from probatus.binning import SimpleBucketer, QuantileBucketer"
   ]
  },
  {
   "cell_type": "markdown",
   "metadata": {},
   "source": [
    "### Setup: create some data\n",
    "\n",
    "Let's create some data on which we want to apply the `SimpleBucketer` and `QuantileBucketer` strategies.<br> We choose a logistic function because it clearly supports the explanation on how binning strategies work."
   ]
  },
  {
   "cell_type": "code",
   "execution_count": 3,
   "metadata": {},
   "outputs": [
    {
     "name": "stdout",
     "output_type": "stream",
     "text": [
      "Counts simple Bucketer   [891 109 110 890]\n",
      "Counts quantile Bucketer [500 500 500 500]\n"
     ]
    }
   ],
   "source": [
    "def log_function(x):\n",
    "    return 1/(1+np.exp(-x))\n",
    "\n",
    "x = [log_function(x) for x in np.arange(-10,10,0.01)]\n",
    "\n",
    "\n",
    "mySimpleBucketer = SimpleBucketer(bin_count=4).fit(x)\n",
    "myQuantileBucketer = QuantileBucketer(bin_count=4).fit(x)\n",
    "\n",
    "simple_counts = mySimpleBucketer.compute(x)\n",
    "quantile_counts = myQuantileBucketer.compute(x)\n",
    "print(f'Counts simple Bucketer   {simple_counts}')\n",
    "print(f'Counts quantile Bucketer {quantile_counts}')"
   ]
  },
  {
   "cell_type": "markdown",
   "metadata": {},
   "source": [
    "And the boundaries"
   ]
  },
  {
   "cell_type": "code",
   "execution_count": 4,
   "metadata": {},
   "outputs": [
    {
     "name": "stdout",
     "output_type": "stream",
     "text": [
      "Boundaries simple Bucketer   [0.   0.25 0.5  0.75 1.  ]\n",
      "Boundaries quantile Bucketer [0.   0.01 0.5  0.99 1.  ]\n"
     ]
    }
   ],
   "source": [
    "print(f'Boundaries simple Bucketer   {np.round(mySimpleBucketer.boundaries_,2)}')\n",
    "print(f'Boundaries quantile Bucketer {np.round(myQuantileBucketer.boundaries_,2)}')"
   ]
  },
  {
   "cell_type": "markdown",
   "metadata": {},
   "source": [
    "Visualizing the distributions..."
   ]
  },
  {
   "cell_type": "code",
   "execution_count": 5,
   "metadata": {},
   "outputs": [
    {
     "data": {
      "image/png": "[encoded data removed]",
      "text/plain": [
       "<Figure size 576x288 with 2 Axes>"
      ]
     },
     "metadata": {
      "needs_background": "light"
     },
     "output_type": "display_data"
    }
   ],
   "source": [
    "df = pd.DataFrame({'x':x})\n",
    "df['label_simple'] = pd.cut(x, bins=mySimpleBucketer.boundaries_, include_lowest=True)\n",
    "df['label_quantiles'] = pd.cut(x, bins=myQuantileBucketer.boundaries_, include_lowest=True)\n",
    "\n",
    "fig, ax = plt.subplots(1,2, figsize = (8,4))\n",
    "df.groupby('label_simple')['x'].count().plot(kind='bar', ax = ax[0]);\n",
    "df.groupby('label_quantiles')['x'].count().plot(kind='bar', ax = ax[1]);\n",
    "ax[0].set_title('Simple Counts');\n",
    "ax[1].set_title('Quantile Counts');"
   ]
  },
  {
   "cell_type": "markdown",
   "metadata": {},
   "source": [
    "# Clustering bucketers"
   ]
  },
  {
   "cell_type": "markdown",
   "metadata": {},
   "source": [
    "The `AgglomerativeBucketer` class applies the Scikit-Learn `AgglomerativeClustering` algorithm to the data and uses the clusters to determine the bins.\n",
    "We use different data to show the value of this algoritm; we create the following distribution:"
   ]
  },
  {
   "cell_type": "code",
   "execution_count": 6,
   "metadata": {},
   "outputs": [
    {
     "data": {
      "image/png": "[encoded data removed]",
      "text/plain": [
       "<Figure size 432x288 with 1 Axes>"
      ]
     },
     "metadata": {
      "needs_background": "light"
     },
     "output_type": "display_data"
    }
   ],
   "source": [
    "from probatus.binning import AgglomerativeBucketer\n",
    "\n",
    "x_agglomerative = np.append(np.random.normal(0,1,size=1000), np.random.normal(6,0.2,size=50))\n",
    "plt.hist(x_agglomerative, bins=20);\n",
    "plt.title('Sample data');"
   ]
  },
  {
   "cell_type": "markdown",
   "metadata": {},
   "source": [
    "When we apply the `AgglomerativeBucketer` algorithm with 2 bins, we see that the algorithm nicely creates a split in between the two centers"
   ]
  },
  {
   "cell_type": "code",
   "execution_count": 7,
   "metadata": {},
   "outputs": [
    {
     "name": "stdout",
     "output_type": "stream",
     "text": [
      "counts [1000   50]\n",
      "boundaries [-3.1176238815145143, 4.176041560131348, 6.671740193897687]\n"
     ]
    }
   ],
   "source": [
    "myAgglomerativeBucketer = AgglomerativeBucketer(bin_count=2)\n",
    "myAgglomerativeBucketer.fit(x_agglomerative)\n",
    "print('counts', myAgglomerativeBucketer.counts_)\n",
    "print('boundaries', myAgglomerativeBucketer.boundaries_)"
   ]
  },
  {
   "cell_type": "code",
   "execution_count": 8,
   "metadata": {},
   "outputs": [
    {
     "data": {
      "image/png": "[encoded data removed]",
      "text/plain": [
       "<Figure size 432x288 with 1 Axes>"
      ]
     },
     "metadata": {
      "needs_background": "light"
     },
     "output_type": "display_data"
    }
   ],
   "source": [
    "df = pd.DataFrame({'x':x_agglomerative})\n",
    "df['label'] = pd.cut(x_agglomerative, bins=myAgglomerativeBucketer.boundaries_, include_lowest=True)\n",
    "\n",
    "fig, ax = plt.subplots()\n",
    "for label in df.label.unique():\n",
    "    df[df.label==label].hist(ax=ax)"
   ]
  },
  {
   "cell_type": "markdown",
   "metadata": {},
   "source": [
    "Note that the `SimpleBucketer` strategy would just have created a split in the middle of the maximum and the minimum (at about 1.75). The `QuantileBucketer` strategy had created two bins with equal amount of elements in it, resulting in a split at around 0."
   ]
  },
  {
   "cell_type": "code",
   "execution_count": 9,
   "metadata": {},
   "outputs": [
    {
     "data": {
      "image/png": "[encoded data removed]",
      "text/plain": [
       "<Figure size 432x288 with 1 Axes>"
      ]
     },
     "metadata": {
      "needs_background": "light"
     },
     "output_type": "display_data"
    }
   ],
   "source": [
    "counts_agglomerative_simple, boundaries_agglomerative_simple = SimpleBucketer.simple_bins(x_agglomerative, 2)\n",
    "\n",
    "df = pd.DataFrame({'x':x_agglomerative})\n",
    "df['label'] = pd.cut(x_agglomerative, bins=boundaries_agglomerative_simple, include_lowest=True)\n",
    "\n",
    "fig, ax = plt.subplots()\n",
    "for label in df.label.unique():\n",
    "    df[df.label==label].hist(ax=ax)"
   ]
  },
  {
   "cell_type": "code",
   "execution_count": 10,
   "metadata": {},
   "outputs": [
    {
     "data": {
      "image/png": "[encoded data removed]",
      "text/plain": [
       "<Figure size 432x288 with 1 Axes>"
      ]
     },
     "metadata": {
      "needs_background": "light"
     },
     "output_type": "display_data"
    }
   ],
   "source": [
    "counts_agglomerative_quantile, boundaries_agglomerative_quantile = QuantileBucketer.quantile_bins(x_agglomerative, 2)\n",
    "\n",
    "df = pd.DataFrame({'x':x_agglomerative})\n",
    "df['label'] = pd.cut(x_agglomerative, bins=boundaries_agglomerative_quantile, include_lowest=True)\n",
    "\n",
    "fig, ax = plt.subplots()\n",
    "for label in df.label.unique():\n",
    "    df[df.label==label].hist(ax=ax)"
   ]
  },
  {
   "cell_type": "markdown",
   "metadata": {},
   "source": [
    "# Target-driven bucketers\n",
    "#### Binning with Decision Trees\n",
    "\n",
    "Binning with decision trees leverages the information of a binary feature or the binary target in order to create buckets that have a significantly different proportion of the binary feature/target. <br>\n",
    "\n",
    "It works by fitting a tree on 1 feature only. <br>\n",
    "It leverages the properties of the split finder algorithm in the decision tree. The splits are done to maximize the gini/entropy. <br> \n",
    "The leaves approximate the optimal bins.\n",
    "\n",
    "The example below shows a distribution defined by a step function"
   ]
  },
  {
   "cell_type": "code",
   "execution_count": 11,
   "metadata": {},
   "outputs": [
    {
     "data": {
      "image/png": "[encoded data removed]",
      "text/plain": [
       "<Figure size 432x288 with 1 Axes>"
      ]
     },
     "metadata": {
      "needs_background": "light"
     },
     "output_type": "display_data"
    }
   ],
   "source": [
    "def make_step_function(x):\n",
    "    if x<4:\n",
    "        return 0.001\n",
    "    elif x<6:\n",
    "        return 0.3\n",
    "    elif x<8:\n",
    "        return 0.5\n",
    "    elif x<9:\n",
    "        return 0.95\n",
    "    else: return 0.9999\n",
    "    \n",
    "\n",
    "x = np.arange(0,10,0.001)\n",
    "probs = [make_step_function(x_) for x_ in x]\n",
    "\n",
    "y = np.array([1 if np.random.rand()<prob else 0 for prob in probs])\n",
    "\n",
    "fig, ax = plt.subplots()\n",
    "\n",
    "ax.hist(x[y==0], alpha=0.5, label = 'Distribution target 0')\n",
    "ax.hist(x[y==1], alpha=0.5, label = 'Distribution target 1')\n",
    "ax.hist(x, alpha=0.1, label = 'Distribution All')\n",
    "ax.set_ylim(0,1500)\n",
    "\n",
    "ax.legend()\n",
    "plt.show()"
   ]
  },
  {
   "cell_type": "markdown",
   "metadata": {},
   "source": [
    "The overall distribution is made of two sub distributions, defined by the target y:\n",
    "- the light blue histogram indicates the distribution of class 0 (`y=0`), \n",
    "- the light orange histogram indicates the distribution of class 1 (`y=1`). <br>\n"
   ]
  },
  {
   "cell_type": "code",
   "execution_count": 12,
   "metadata": {},
   "outputs": [
    {
     "name": "stdout",
     "output_type": "stream",
     "text": [
      "counts by TreeBucketer: [4002 2001 1999  986 1012]\n",
      "counts by QuantileBucketer: [625 625 625 625 625 625 625 625 625 625 625 625 625 625 625 625]\n"
     ]
    },
    {
     "data": {
      "image/png": "[encoded data removed]",
      "text/plain": [
       "<Figure size 864x360 with 2 Axes>"
      ]
     },
     "metadata": {
      "needs_background": "light"
     },
     "output_type": "display_data"
    }
   ],
   "source": [
    "from probatus.binning import TreeBucketer\n",
    "\n",
    "# Try a tree bucketer\n",
    "tb = TreeBucketer(\n",
    "    inf_edges=True, \n",
    "    max_leaf_nodes = 16,\n",
    "    criterion = 'entropy',\n",
    "   min_samples_leaf =0.05 , #Minimum fraction of entries in the bins\n",
    "   min_impurity_decrease=0.001\n",
    ").fit(x,y)\n",
    "\n",
    "counts_tree, boundaries_tree = tb.counts_, tb.boundaries_\n",
    "\n",
    "df_tree = pd.DataFrame({\n",
    "    'x':x, \n",
    "    'y':y,\n",
    "    'probs':probs\n",
    "})\n",
    "\n",
    "df_tree['label'] = pd.cut(x, bins=boundaries_tree, include_lowest=True)\n",
    "\n",
    "# Try a quantile bucketer\n",
    "myQuantileBucketer = QuantileBucketer(bin_count=16)\n",
    "myQuantileBucketer.fit(x)\n",
    "q_boundaries =  myQuantileBucketer.boundaries_\n",
    "q_counts =  myQuantileBucketer.counts_\n",
    "\n",
    "df_q = pd.DataFrame({\n",
    "    'x':x, \n",
    "    'y':y,\n",
    "    'probs':probs\n",
    "})\n",
    "df_q['label'] = pd.cut(x, bins=q_boundaries, include_lowest=True)\n",
    "\n",
    "\n",
    "fig, ax = plt.subplots(1,2, figsize = (12,5))\n",
    "\n",
    "for label in df_tree.label.unique():\n",
    "    df_tree[df_tree.label==label].plot(ax=ax[0], x = 'x', y='probs', legend=False)\n",
    "    ax[0].scatter( df_tree[df_tree.label==label]['x'].mean(), df_tree[df_tree.label==label]['y'].mean())\n",
    "    ax[0].set_title(\"Tree bucketer\")\n",
    "    \n",
    "for label in df_q.label.unique():\n",
    "    df_q[df_q.label==label].plot(ax=ax[1], x = 'x', y='probs', legend=False)\n",
    "    ax[1].scatter(df_q[df_q.label==label]['x'].mean(), df_q[df_q.label==label]['y'].mean())\n",
    "    ax[1].set_title(\"Quantile bucketer\")\n",
    "    \n",
    "print(f\"counts by TreeBucketer: {counts_tree}\")\n",
    "print(f\"counts by QuantileBucketer: {q_counts}\")"
   ]
  },
  {
   "cell_type": "markdown",
   "metadata": {},
   "source": [
    "Comparing the `TreeBucketer` and the `QuantileBucketer` (the dots compare the average distribution of class 1 in the bin): <br>\n",
    "Each buckets obtained by the `TreeBucketer` follow the probability distribution (ie the entries in the bucket have the same probability of being class 1). <br>\n",
    "On the contrary, the `QuantileBucketer` splits the values below 4 in 6 buckets, which all have the same probability of being class 1.<br>\n",
    "Note also that the tree is grown with the maximum depth of 4, which potentially let's it grow up to 16 buckets ($2^4$).<br>\n",
    "\n",
    "The learned tree is visualized below, whreere the splitting according to the step function is visualized clearly.\n",
    "\n"
   ]
  },
  {
   "cell_type": "code",
   "execution_count": 13,
   "metadata": {},
   "outputs": [
    {
     "data": {
      "image/png": "[encoded data removed]",
      "text/plain": [
       "<Figure size 864x360 with 1 Axes>"
      ]
     },
     "metadata": {
      "needs_background": "light"
     },
     "output_type": "display_data"
    }
   ],
   "source": [
    "from sklearn.tree import plot_tree\n",
    "fig, ax = plt.subplots(figsize = (12,5))\n",
    "tre_out = plot_tree(tb.tree, ax = ax)"
   ]
  },
  {
   "cell_type": "markdown",
   "metadata": {},
   "source": [
    "# Extra: handy applications of probatus Bucketers\n",
    "\n",
    "\n",
    "### Distribution Visualizations\n",
    "Visualization of distributions can lead to misinterpretation, take the example below:<br>\n",
    "\n",
    "- Generate `X1` as a normal distribution of 1000 enties\n",
    "- `X2` equals `X1` + one outlier\n",
    "\n",
    "`X1` and `X2` are effectively the same distribution, but visualizing them in 6 bins givers a different interpetation.\n",
    "\n"
   ]
  },
  {
   "cell_type": "code",
   "execution_count": 19,
   "metadata": {},
   "outputs": [
    {
     "data": {
      "image/png": "[encoded data removed]",
      "text/plain": [
       "<Figure size 432x288 with 1 Axes>"
      ]
     },
     "metadata": {
      "needs_background": "light"
     },
     "output_type": "display_data"
    }
   ],
   "source": [
    "X1 = np.random.normal(0,1,size=1000)\n",
    "X2 = np.hstack([X1,[5]])\n",
    "plt.hist(X1, bins=6, alpha = 0.5);\n",
    "plt.hist(X2, bins=6, alpha = 0.5);\n",
    "plt.title('Sample data');\n"
   ]
  },
  {
   "cell_type": "markdown",
   "metadata": {},
   "source": [
    "By Fitting the simple bucketer to X1, and applying it to X1 and X2, we conclude that they are effectively the same distribution."
   ]
  },
  {
   "cell_type": "code",
   "execution_count": 20,
   "metadata": {},
   "outputs": [
    {
     "name": "stdout",
     "output_type": "stream",
     "text": [
      "Counts X1 [ 35 194 442 265  61   3]\n",
      "Counts X2 [ 35 194 442 265  61   3]\n"
     ]
    },
    {
     "data": {
      "image/png": "[encoded data removed]",
      "text/plain": [
       "<Figure size 432x288 with 1 Axes>"
      ]
     },
     "metadata": {
      "needs_background": "light"
     },
     "output_type": "display_data"
    }
   ],
   "source": [
    "bucketer = SimpleBucketer(6).fit(X1)\n",
    "counts_1 = bucketer.compute(X1)\n",
    "counts_2 = bucketer.compute(X2)\n",
    "\n",
    "print(f'Counts X1 {counts_1}')\n",
    "print(f'Counts X2 {counts_2}')\n",
    "\n",
    "plt.hist(X1, bins=bucketer.boundaries_, alpha = 0.5);\n",
    "plt.hist(X2, bins=bucketer.boundaries_, alpha = 0.3);\n",
    "plt.title('Sample data');"
   ]
  },
  {
   "cell_type": "markdown",
   "metadata": {},
   "source": [
    "# Grouping applications into buckets\n",
    "\n",
    "A common practice for checking the model performace, is the evaluation of its Rank Ordering.<br>\n",
    "This is usually done by scoring a sample, and then creating buckets of applications with a similar prediction.\n",
    "\n",
    "This becomes very tricky in the scenario of highly imbalanced data sets, as the one created below\n"
   ]
  },
  {
   "cell_type": "code",
   "execution_count": 21,
   "metadata": {},
   "outputs": [
    {
     "data": {
      "text/plain": [
       "(array([0, 1]), array([9500,  500]))"
      ]
     },
     "execution_count": 21,
     "metadata": {},
     "output_type": "execute_result"
    }
   ],
   "source": [
    "from sklearn.datasets import make_classification\n",
    "\n",
    "X,y =  make_classification(10000, flip_y =0.5)\n",
    "\n",
    "### Add some imbalance (cca 5%)\n",
    "X_0 = X[y==0]\n",
    "X_1 = X[y==1]\n",
    "y_1 = y[y==1]\n",
    "y_1[:int(0.9*y_1.shape[0])]=0\n",
    "\n",
    "y = np.hstack([y[y==0],y_1])\n",
    "\n",
    "np.unique(y, return_counts=True)"
   ]
  },
  {
   "cell_type": "markdown",
   "metadata": {},
   "source": [
    "This dataset has only 5% of targets  `y=1`"
   ]
  },
  {
   "cell_type": "code",
   "execution_count": 17,
   "metadata": {},
   "outputs": [
    {
     "name": "stdout",
     "output_type": "stream",
     "text": [
      "\n",
      "Simple bucketing\n"
     ]
    },
    {
     "data": {
      "text/html": [
       "<div>\n",
       "<style scoped>\n",
       "    .dataframe tbody tr th:only-of-type {\n",
       "        vertical-align: middle;\n",
       "    }\n",
       "\n",
       "    .dataframe tbody tr th {\n",
       "        vertical-align: top;\n",
       "    }\n",
       "\n",
       "    .dataframe thead tr th {\n",
       "        text-align: left;\n",
       "    }\n",
       "</style>\n",
       "<table border=\"1\" class=\"dataframe\">\n",
       "  <thead>\n",
       "    <tr>\n",
       "      <th></th>\n",
       "      <th>bin_s</th>\n",
       "      <th colspan=\"2\" halign=\"left\">y</th>\n",
       "      <th>proba</th>\n",
       "    </tr>\n",
       "    <tr>\n",
       "      <th></th>\n",
       "      <th></th>\n",
       "      <th>mean</th>\n",
       "      <th>sum</th>\n",
       "      <th>mean</th>\n",
       "    </tr>\n",
       "  </thead>\n",
       "  <tbody>\n",
       "    <tr>\n",
       "      <th>0</th>\n",
       "      <td>(0.0289, 0.0397]</td>\n",
       "      <td>0.038585</td>\n",
       "      <td>24</td>\n",
       "      <td>0.037410</td>\n",
       "    </tr>\n",
       "    <tr>\n",
       "      <th>1</th>\n",
       "      <td>(0.0397, 0.0495]</td>\n",
       "      <td>0.043413</td>\n",
       "      <td>202</td>\n",
       "      <td>0.045268</td>\n",
       "    </tr>\n",
       "    <tr>\n",
       "      <th>2</th>\n",
       "      <td>(0.0495, 0.0593]</td>\n",
       "      <td>0.056730</td>\n",
       "      <td>220</td>\n",
       "      <td>0.053464</td>\n",
       "    </tr>\n",
       "    <tr>\n",
       "      <th>3</th>\n",
       "      <td>(0.0593, 0.069]</td>\n",
       "      <td>0.055412</td>\n",
       "      <td>43</td>\n",
       "      <td>0.062642</td>\n",
       "    </tr>\n",
       "    <tr>\n",
       "      <th>4</th>\n",
       "      <td>(0.069, 0.0788]</td>\n",
       "      <td>0.061538</td>\n",
       "      <td>4</td>\n",
       "      <td>0.071638</td>\n",
       "    </tr>\n",
       "    <tr>\n",
       "      <th>5</th>\n",
       "      <td>(0.0788, 0.0886]</td>\n",
       "      <td>0.333333</td>\n",
       "      <td>2</td>\n",
       "      <td>0.083598</td>\n",
       "    </tr>\n",
       "  </tbody>\n",
       "</table>\n",
       "</div>"
      ],
      "text/plain": [
       "              bin_s         y          proba\n",
       "                         mean  sum      mean\n",
       "0  (0.0289, 0.0397]  0.038585   24  0.037410\n",
       "1  (0.0397, 0.0495]  0.043413  202  0.045268\n",
       "2  (0.0495, 0.0593]  0.056730  220  0.053464\n",
       "3   (0.0593, 0.069]  0.055412   43  0.062642\n",
       "4   (0.069, 0.0788]  0.061538    4  0.071638\n",
       "5  (0.0788, 0.0886]  0.333333    2  0.083598"
      ]
     },
     "metadata": {},
     "output_type": "display_data"
    },
    {
     "name": "stdout",
     "output_type": "stream",
     "text": [
      "\n",
      "Tree bucketing\n"
     ]
    },
    {
     "data": {
      "text/html": [
       "<div>\n",
       "<style scoped>\n",
       "    .dataframe tbody tr th:only-of-type {\n",
       "        vertical-align: middle;\n",
       "    }\n",
       "\n",
       "    .dataframe tbody tr th {\n",
       "        vertical-align: top;\n",
       "    }\n",
       "\n",
       "    .dataframe thead tr th {\n",
       "        text-align: left;\n",
       "    }\n",
       "</style>\n",
       "<table border=\"1\" class=\"dataframe\">\n",
       "  <thead>\n",
       "    <tr>\n",
       "      <th></th>\n",
       "      <th>bin_t</th>\n",
       "      <th colspan=\"2\" halign=\"left\">y</th>\n",
       "      <th>proba</th>\n",
       "    </tr>\n",
       "    <tr>\n",
       "      <th></th>\n",
       "      <th></th>\n",
       "      <th>mean</th>\n",
       "      <th>sum</th>\n",
       "      <th>mean</th>\n",
       "    </tr>\n",
       "  </thead>\n",
       "  <tbody>\n",
       "    <tr>\n",
       "      <th>0</th>\n",
       "      <td>(-inf, 0.0471]</td>\n",
       "      <td>0.041075</td>\n",
       "      <td>159</td>\n",
       "      <td>0.042900</td>\n",
       "    </tr>\n",
       "    <tr>\n",
       "      <th>1</th>\n",
       "      <td>(0.0471, 0.052]</td>\n",
       "      <td>0.046802</td>\n",
       "      <td>131</td>\n",
       "      <td>0.049533</td>\n",
       "    </tr>\n",
       "    <tr>\n",
       "      <th>2</th>\n",
       "      <td>(0.052, 0.0541]</td>\n",
       "      <td>0.065411</td>\n",
       "      <td>66</td>\n",
       "      <td>0.053049</td>\n",
       "    </tr>\n",
       "    <tr>\n",
       "      <th>3</th>\n",
       "      <td>(0.0541, 0.0556]</td>\n",
       "      <td>0.047187</td>\n",
       "      <td>26</td>\n",
       "      <td>0.054800</td>\n",
       "    </tr>\n",
       "    <tr>\n",
       "      <th>4</th>\n",
       "      <td>(0.0556, 0.0584]</td>\n",
       "      <td>0.075738</td>\n",
       "      <td>59</td>\n",
       "      <td>0.056913</td>\n",
       "    </tr>\n",
       "    <tr>\n",
       "      <th>5</th>\n",
       "      <td>(0.0584, inf]</td>\n",
       "      <td>0.054490</td>\n",
       "      <td>54</td>\n",
       "      <td>0.062800</td>\n",
       "    </tr>\n",
       "  </tbody>\n",
       "</table>\n",
       "</div>"
      ],
      "text/plain": [
       "              bin_t         y          proba\n",
       "                         mean  sum      mean\n",
       "0    (-inf, 0.0471]  0.041075  159  0.042900\n",
       "1   (0.0471, 0.052]  0.046802  131  0.049533\n",
       "2   (0.052, 0.0541]  0.065411   66  0.053049\n",
       "3  (0.0541, 0.0556]  0.047187   26  0.054800\n",
       "4  (0.0556, 0.0584]  0.075738   59  0.056913\n",
       "5     (0.0584, inf]  0.054490   54  0.062800"
      ]
     },
     "metadata": {},
     "output_type": "display_data"
    }
   ],
   "source": [
    "from sklearn.linear_model import LogisticRegression\n",
    "\n",
    "lr = LogisticRegression().fit(X,y)\n",
    "proba = lr.predict_proba(X)[:,1]\n",
    "\n",
    "prob_buckets = pd.DataFrame({\n",
    "    \"y\":y,\n",
    "    \"proba\":proba\n",
    "}).sort_values(by='proba')\n",
    "\n",
    "# Create simple buckets\n",
    "prob_buckets[\"bin_s\"]=pd.cut(prob_buckets['proba'], bins=SimpleBucketer(bin_count=6).fit(proba).boundaries_, include_lowest=True)\n",
    "\n",
    "# Create tree buckets\n",
    "prob_buckets[\"bin_t\"]=pd.cut(prob_buckets['proba'], bins=TreeBucketer(inf_edges=True, \n",
    "    max_leaf_nodes = 6,\n",
    "   min_samples_leaf =0.05\n",
    ").fit(proba,y).boundaries_, include_lowest=True)\n",
    "\n",
    "print(\"\\nSimple bucketing\")\n",
    "# Groupby\n",
    "simple_buckets = prob_buckets.groupby('bin_s',as_index=False).agg({\n",
    "    \"y\":[\"mean\",\"sum\"],\n",
    "    \"proba\":\"mean\",\n",
    "    \n",
    "})\n",
    "display(simple_buckets)\n",
    "\n",
    "print(\"\\nTree bucketing\")\n",
    "\n",
    "tree_buckets = prob_buckets.groupby('bin_t', as_index=False).agg({\n",
    "    \"y\":[\"mean\",\"sum\"],\n",
    "    \"proba\":\"mean\",\n",
    "    \n",
    "})\n",
    "\n",
    "display(tree_buckets)"
   ]
  },
  {
   "cell_type": "markdown",
   "metadata": {},
   "source": [
    "Note how the buckets after the decision tree bucketers give a more representative picture towards higher values of predicted probabilities."
   ]
  }
 ],
 "metadata": {
  "kernelspec": {
   "display_name": "Python 3",
   "language": "python",
   "name": "python3"
  },
  "language_info": {
   "codemirror_mode": {
    "name": "ipython",
    "version": 3
   },
   "file_extension": ".py",
   "mimetype": "text/x-python",
   "name": "python",
   "nbconvert_exporter": "python",
   "pygments_lexer": "ipython3",
   "version": "3.6.10"
  }
 },
 "nbformat": 4,
 "nbformat_minor": 4
}
